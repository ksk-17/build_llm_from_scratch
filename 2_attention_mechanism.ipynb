{
  "cells": [
    {
      "cell_type": "markdown",
      "metadata": {
        "id": "BEWP7enV-xSe"
      },
      "source": [
        "# Simplified version of self attention"
      ]
    },
    {
      "cell_type": "code",
      "execution_count": 1,
      "metadata": {
        "id": "H-RIjcr_16Rw"
      },
      "outputs": [],
      "source": [
        "import torch\n",
        "\n",
        "inputs = torch.tensor(\n",
        "  [[0.43, 0.15, 0.89], # Your     (x^1)\n",
        "   [0.55, 0.87, 0.66], # journey  (x^2)\n",
        "   [0.57, 0.85, 0.64], # starts   (x^3)\n",
        "   [0.22, 0.58, 0.33], # with     (x^4)\n",
        "   [0.77, 0.25, 0.10], # one      (x^5)\n",
        "   [0.05, 0.80, 0.55]] # step     (x^6)\n",
        ")"
      ]
    },
    {
      "cell_type": "code",
      "execution_count": 2,
      "metadata": {
        "colab": {
          "base_uri": "https://localhost:8080/"
        },
        "id": "cpsmleSM2MDq",
        "outputId": "c193ae05-5cf5-4ee9-f0e9-dfc707104adc"
      },
      "outputs": [
        {
          "name": "stdout",
          "output_type": "stream",
          "text": [
            "attn_scores for the second word journey is: tensor([0.9544, 1.4950, 1.4754, 0.8434, 0.7070, 1.0865])\n"
          ]
        }
      ],
      "source": [
        "# first step is to calculate the values of attention scores (w)\n",
        "query = inputs[1]\n",
        "attn_scores_2 = torch.matmul(inputs, query)\n",
        "print(\"attn_scores for the second word journey is:\", attn_scores_2)"
      ]
    },
    {
      "cell_type": "code",
      "execution_count": 3,
      "metadata": {
        "colab": {
          "base_uri": "https://localhost:8080/"
        },
        "id": "Nn1Murzn2qNk",
        "outputId": "da8d19cc-eb7a-48d1-fb3c-5b4faba5f396"
      },
      "outputs": [
        {
          "name": "stdout",
          "output_type": "stream",
          "text": [
            "attn_weights for the second word journey is: tensor([0.1385, 0.2379, 0.2333, 0.1240, 0.1082, 0.1581])\n",
            "sum of attn_weights: tensor(1.)\n"
          ]
        }
      ],
      "source": [
        "# normalize the attention scores to get the attention weights\n",
        "attn_weights_2 = torch.nn.functional.softmax(attn_scores_2, dim=0)\n",
        "print(\"attn_weights for the second word journey is:\", attn_weights_2)\n",
        "print(\"sum of attn_weights:\", attn_weights_2.sum())"
      ]
    },
    {
      "cell_type": "code",
      "execution_count": 4,
      "metadata": {
        "colab": {
          "base_uri": "https://localhost:8080/"
        },
        "id": "XblJBvuq3xUd",
        "outputId": "a6f3e0fc-41b6-46a3-9814-65634c1b7501"
      },
      "outputs": [
        {
          "name": "stdout",
          "output_type": "stream",
          "text": [
            "context vector for the second word journey is: tensor([0.4419, 0.6515, 0.5683])\n"
          ]
        }
      ],
      "source": [
        "# final step to calculate the context vector\n",
        "# context vector is the sum of all input pairs with its attn_weights\n",
        "context_vector_2 = torch.matmul(attn_weights_2, inputs)\n",
        "print(\"context vector for the second word journey is:\", context_vector_2)"
      ]
    },
    {
      "cell_type": "code",
      "execution_count": 5,
      "metadata": {
        "colab": {
          "base_uri": "https://localhost:8080/"
        },
        "id": "OSdq7eqA5iV3",
        "outputId": "c1c60334-03d5-4c59-d4b3-07aa3cae5683"
      },
      "outputs": [
        {
          "name": "stdout",
          "output_type": "stream",
          "text": [
            "attn_scores are: tensor([[0.9995, 0.9544, 0.9422, 0.4753, 0.4576, 0.6310],\n",
            "        [0.9544, 1.4950, 1.4754, 0.8434, 0.7070, 1.0865],\n",
            "        [0.9422, 1.4754, 1.4570, 0.8296, 0.7154, 1.0605],\n",
            "        [0.4753, 0.8434, 0.8296, 0.4937, 0.3474, 0.6565],\n",
            "        [0.4576, 0.7070, 0.7154, 0.3474, 0.6654, 0.2935],\n",
            "        [0.6310, 1.0865, 1.0605, 0.6565, 0.2935, 0.9450]])\n",
            "attn_weights are: tensor([[0.2098, 0.2006, 0.1981, 0.1242, 0.1220, 0.1452],\n",
            "        [0.1385, 0.2379, 0.2333, 0.1240, 0.1082, 0.1581],\n",
            "        [0.1390, 0.2369, 0.2326, 0.1242, 0.1108, 0.1565],\n",
            "        [0.1435, 0.2074, 0.2046, 0.1462, 0.1263, 0.1720],\n",
            "        [0.1526, 0.1958, 0.1975, 0.1367, 0.1879, 0.1295],\n",
            "        [0.1385, 0.2184, 0.2128, 0.1420, 0.0988, 0.1896]])\n",
            "sum of all rows of attn_weights: tensor([1.0000, 1.0000, 1.0000, 1.0000, 1.0000, 1.0000])\n",
            "context_vector: tensor([[0.4421, 0.5931, 0.5790],\n",
            "        [0.4419, 0.6515, 0.5683],\n",
            "        [0.4431, 0.6496, 0.5671],\n",
            "        [0.4304, 0.6298, 0.5510],\n",
            "        [0.4671, 0.5910, 0.5266],\n",
            "        [0.4177, 0.6503, 0.5645]])\n"
          ]
        }
      ],
      "source": [
        "# lets implement context vectors for all the inputs\n",
        "attn_scores = torch.matmul(inputs, inputs.T)\n",
        "print(\"attn_scores are:\", attn_scores)\n",
        "attn_weights = torch.nn.functional.softmax(attn_scores, dim=1)\n",
        "print(\"attn_weights are:\", attn_weights)\n",
        "print(\"sum of all rows of attn_weights:\", attn_weights.sum(dim=1))\n",
        "context_vector = torch.matmul(attn_weights, inputs)\n",
        "print(\"context_vector:\", context_vector)"
      ]
    },
    {
      "cell_type": "markdown",
      "metadata": {
        "id": "-4xH5iba-miU"
      },
      "source": [
        "# Implementing self-attention with trainable weights"
      ]
    },
    {
      "cell_type": "code",
      "execution_count": 6,
      "metadata": {
        "id": "4P-Q4Gr8-4xr"
      },
      "outputs": [],
      "source": [
        "# unlike the simple self-attention mechanism we did earlier, here we initialise\n",
        "# 3 vectors q, k, v which are the obtained by multiplying the inputs with weight\n",
        "# matrices Wq, Wk and Wv\n",
        "x_2 = inputs[1]\n",
        "d_in = x_2.shape[0]\n",
        "d_out = 2\n",
        "\n",
        "# initialize the weight matrices, for demo we are using requires_grad as False\n",
        "torch.manual_seed(123)\n",
        "W_query = torch.nn.Parameter(torch.rand(d_in, d_out), requires_grad=False)\n",
        "W_key = torch.nn.Parameter(torch.rand(d_in, d_out), requires_grad=False)\n",
        "W_value = torch.nn.Parameter(torch.rand(d_in, d_out), requires_grad=False)"
      ]
    },
    {
      "cell_type": "code",
      "execution_count": 7,
      "metadata": {
        "colab": {
          "base_uri": "https://localhost:8080/"
        },
        "id": "aD9PGswoBDaa",
        "outputId": "89de5451-f6aa-43f2-8f2e-9000d83f0092"
      },
      "outputs": [
        {
          "name": "stdout",
          "output_type": "stream",
          "text": [
            "query_2: tensor([0.4306, 1.4551])\n"
          ]
        }
      ],
      "source": [
        "# compute query, key and value for x_2\n",
        "query_2 = torch.matmul(x_2, W_query)\n",
        "key_2 = torch.matmul(x_2, W_key)\n",
        "value_2 = torch.matmul(x_2, W_value)\n",
        "print(\"query_2:\", query_2)"
      ]
    },
    {
      "cell_type": "code",
      "execution_count": 8,
      "metadata": {
        "colab": {
          "base_uri": "https://localhost:8080/"
        },
        "id": "F3SAOEgyBiCw",
        "outputId": "d858d99c-17c8-4a71-e86d-9d20f5397b2c"
      },
      "outputs": [
        {
          "name": "stdout",
          "output_type": "stream",
          "text": [
            "keys shape: torch.Size([6, 2])\n",
            "values shape: torch.Size([6, 2])\n"
          ]
        }
      ],
      "source": [
        "# get all the keys and values\n",
        "keys = torch.matmul(inputs, W_key)\n",
        "values = torch.matmul(inputs, W_value)\n",
        "print(\"keys shape:\", keys.shape)\n",
        "print(\"values shape:\", values.shape)"
      ]
    },
    {
      "cell_type": "code",
      "execution_count": 9,
      "metadata": {
        "colab": {
          "base_uri": "https://localhost:8080/"
        },
        "id": "I3X_ZyFT-qes",
        "outputId": "7041ff0d-7d57-43ff-953b-b8b8f6b1d07b"
      },
      "outputs": [
        {
          "name": "stdout",
          "output_type": "stream",
          "text": [
            "attn_scores: tensor([1.2705, 1.8524, 1.8111, 1.0795, 0.5577, 1.5440])\n"
          ]
        }
      ],
      "source": [
        "# compute the attention scores\n",
        "attn_scores_2 = torch.matmul(query_2, keys.T)\n",
        "print(\"attn_scores:\", attn_scores_2)"
      ]
    },
    {
      "cell_type": "code",
      "execution_count": 10,
      "metadata": {
        "colab": {
          "base_uri": "https://localhost:8080/"
        },
        "id": "Kge7MF7R_Q2U",
        "outputId": "bbc08316-c823-4318-8700-3a88e21a829e"
      },
      "outputs": [
        {
          "name": "stdout",
          "output_type": "stream",
          "text": [
            "attn_weights: tensor([0.1500, 0.2264, 0.2199, 0.1311, 0.0906, 0.1820])\n",
            "sum of attn_weights: tensor(1.)\n"
          ]
        }
      ],
      "source": [
        "# compute the attention weights\n",
        "# we use softmax with the root of the embedding dimension\n",
        "\n",
        "d_k = keys.shape[1]\n",
        "attn_weights_2 = torch.nn.functional.softmax(attn_scores_2 / d_k**0.5, dim = -1)\n",
        "print(\"attn_weights:\", attn_weights_2)\n",
        "print(\"sum of attn_weights:\", attn_weights_2.sum())"
      ]
    },
    {
      "cell_type": "code",
      "execution_count": 11,
      "metadata": {
        "colab": {
          "base_uri": "https://localhost:8080/"
        },
        "id": "137S2g4sAbHg",
        "outputId": "cc4a76fb-4795-487c-964d-da685f2c9d0a"
      },
      "outputs": [
        {
          "name": "stdout",
          "output_type": "stream",
          "text": [
            "context_vector: tensor([0.3061, 0.8210])\n"
          ]
        }
      ],
      "source": [
        "# compute the context vector\n",
        "context_vector_2 = torch.matmul(attn_weights_2, values)\n",
        "print(\"context_vector:\", context_vector_2)"
      ]
    },
    {
      "cell_type": "markdown",
      "metadata": {
        "id": "iXVvRtNtClVX"
      },
      "source": [
        "# Implementing a python call for self attention"
      ]
    },
    {
      "cell_type": "code",
      "execution_count": 12,
      "metadata": {
        "id": "wLEgk_HECpMH"
      },
      "outputs": [],
      "source": [
        "import torch.nn as nn\n",
        "\n",
        "class SelfAttention_v1(nn.Module):\n",
        "  def __init__(self, d_in, d_out):\n",
        "    super().__init__()\n",
        "    self.W_query = nn.Parameter(torch.rand(d_in, d_out))\n",
        "    self.W_key = nn.Parameter(torch.rand(d_in, d_out))\n",
        "    self.W_value = nn.Parameter(torch.rand(d_in, d_out))\n",
        "\n",
        "  def forward(self, x):\n",
        "    queries = torch.matmul(inputs, self.W_query)\n",
        "    keys = torch.matmul(inputs, self.W_key)\n",
        "    values = torch.matmul(inputs, self.W_value)\n",
        "    attn_scores = torch.matmul(queries, keys.T)\n",
        "    attn_weights = nn.functional.softmax(attn_scores/(keys.shape[-1] ** 0.5), dim = -1)\n",
        "    context_vector = torch.matmul(attn_weights, values)\n",
        "    return context_vector\n"
      ]
    },
    {
      "cell_type": "code",
      "execution_count": 13,
      "metadata": {
        "colab": {
          "base_uri": "https://localhost:8080/"
        },
        "id": "TMAs5hEMD4HY",
        "outputId": "0c31878b-de86-4c13-f23a-8dfde40f893b"
      },
      "outputs": [
        {
          "name": "stdout",
          "output_type": "stream",
          "text": [
            "tensor([[0.2996, 0.8053],\n",
            "        [0.3061, 0.8210],\n",
            "        [0.3058, 0.8203],\n",
            "        [0.2948, 0.7939],\n",
            "        [0.2927, 0.7891],\n",
            "        [0.2990, 0.8040]], grad_fn=<MmBackward0>)\n"
          ]
        }
      ],
      "source": [
        "# test the self attention class\n",
        "torch.manual_seed(123)\n",
        "sa_v1 = SelfAttention_v1(d_in, d_out)\n",
        "print(sa_v1(inputs))"
      ]
    },
    {
      "cell_type": "code",
      "execution_count": 14,
      "metadata": {
        "id": "K9iwrSXVEc3p"
      },
      "outputs": [],
      "source": [
        "# stabilizing the self attention by using nn.Linear\n",
        "\n",
        "class SelfAttention_v2(nn.Module):\n",
        "  def __init__(self, d_in, d_out, qvk_bias = False):\n",
        "    super().__init__()\n",
        "    self.W_query = nn.Linear(d_in, d_out, bias = qvk_bias)\n",
        "    self.W_key = nn.Linear(d_in, d_out, bias = qvk_bias)\n",
        "    self.W_value = nn.Linear(d_in, d_out, bias = qvk_bias)\n",
        "\n",
        "  def forward(self, x):\n",
        "    queries = self.W_query(x)\n",
        "    keys = self.W_key(x)\n",
        "    values = self.W_value(x)\n",
        "    attn_scores = torch.matmul(queries, keys.T)\n",
        "    attn_weights = nn.functional.softmax(attn_scores/(keys.shape[-1] ** 0.5), dim = -1)\n",
        "    context_vector = torch.matmul(attn_weights, values)\n",
        "    return context_vector"
      ]
    },
    {
      "cell_type": "code",
      "execution_count": 15,
      "metadata": {
        "colab": {
          "base_uri": "https://localhost:8080/"
        },
        "id": "OfRVRI4sFujL",
        "outputId": "cfce89f2-b0d7-49ee-beda-9af3f7363439"
      },
      "outputs": [
        {
          "name": "stdout",
          "output_type": "stream",
          "text": [
            "tensor([[-0.0739,  0.0713],\n",
            "        [-0.0748,  0.0703],\n",
            "        [-0.0749,  0.0702],\n",
            "        [-0.0760,  0.0685],\n",
            "        [-0.0763,  0.0679],\n",
            "        [-0.0754,  0.0693]], grad_fn=<MmBackward0>)\n"
          ]
        }
      ],
      "source": [
        "# test the self attention class\n",
        "torch.manual_seed(789)\n",
        "sa_v2 = SelfAttention_v2(d_in, d_out)\n",
        "print(sa_v2(inputs))"
      ]
    },
    {
      "cell_type": "markdown",
      "metadata": {
        "id": "W7VDpuQsHAKL"
      },
      "source": [
        "# Hiding feature words with casual attention (Masked Attention)"
      ]
    },
    {
      "cell_type": "code",
      "execution_count": 16,
      "metadata": {
        "colab": {
          "base_uri": "https://localhost:8080/"
        },
        "id": "ayc89KlTHFdd",
        "outputId": "0e327326-4de0-48a8-8b08-11f25a062c3e"
      },
      "outputs": [
        {
          "name": "stdout",
          "output_type": "stream",
          "text": [
            "tensor([[0.1921, 0.1646, 0.1652, 0.1550, 0.1721, 0.1510],\n",
            "        [0.2041, 0.1659, 0.1662, 0.1496, 0.1665, 0.1477],\n",
            "        [0.2036, 0.1659, 0.1662, 0.1498, 0.1664, 0.1480],\n",
            "        [0.1869, 0.1667, 0.1668, 0.1571, 0.1661, 0.1564],\n",
            "        [0.1830, 0.1669, 0.1670, 0.1588, 0.1658, 0.1585],\n",
            "        [0.1935, 0.1663, 0.1666, 0.1542, 0.1666, 0.1529]],\n",
            "       grad_fn=<SoftmaxBackward0>)\n"
          ]
        }
      ],
      "source": [
        "# lets compute the unmasked attention weights first\n",
        "\n",
        "queries = sa_v2.W_query(inputs)\n",
        "keys = sa_v2.W_key(inputs)\n",
        "values = sa_v2.W_value(inputs)\n",
        "attn_scores = torch.matmul(queries, keys.T)\n",
        "attn_weights = nn.functional.softmax(attn_scores/(keys.shape[-1] ** 0.5), dim = -1)\n",
        "print(attn_weights)"
      ]
    },
    {
      "cell_type": "code",
      "execution_count": 17,
      "metadata": {
        "colab": {
          "base_uri": "https://localhost:8080/"
        },
        "id": "l4m4ZxXdJQNv",
        "outputId": "7a99764e-c94b-4c94-8d5a-fe19cb3a0ba4"
      },
      "outputs": [
        {
          "name": "stdout",
          "output_type": "stream",
          "text": [
            "tensor([[1., 0., 0., 0., 0., 0.],\n",
            "        [1., 1., 0., 0., 0., 0.],\n",
            "        [1., 1., 1., 0., 0., 0.],\n",
            "        [1., 1., 1., 1., 0., 0.],\n",
            "        [1., 1., 1., 1., 1., 0.],\n",
            "        [1., 1., 1., 1., 1., 1.]])\n"
          ]
        }
      ],
      "source": [
        "# creating the mask using the tril operation\n",
        "context_length = attn_scores.shape[0]\n",
        "mask = torch.tril(torch.ones(context_length, context_length))\n",
        "print(mask)"
      ]
    },
    {
      "cell_type": "code",
      "execution_count": 18,
      "metadata": {
        "colab": {
          "base_uri": "https://localhost:8080/"
        },
        "id": "DQCLRP9qJjpE",
        "outputId": "a46115b9-39e7-483e-a980-f1ae3bced34a"
      },
      "outputs": [
        {
          "name": "stdout",
          "output_type": "stream",
          "text": [
            "tensor([[0.1921, 0.0000, 0.0000, 0.0000, 0.0000, 0.0000],\n",
            "        [0.2041, 0.1659, 0.0000, 0.0000, 0.0000, 0.0000],\n",
            "        [0.2036, 0.1659, 0.1662, 0.0000, 0.0000, 0.0000],\n",
            "        [0.1869, 0.1667, 0.1668, 0.1571, 0.0000, 0.0000],\n",
            "        [0.1830, 0.1669, 0.1670, 0.1588, 0.1658, 0.0000],\n",
            "        [0.1935, 0.1663, 0.1666, 0.1542, 0.1666, 0.1529]],\n",
            "       grad_fn=<MulBackward0>)\n"
          ]
        }
      ],
      "source": [
        "# compute masked attn weights\n",
        "masked_attn_weights = attn_weights * mask\n",
        "print(masked_attn_weights)"
      ]
    },
    {
      "cell_type": "code",
      "execution_count": 19,
      "metadata": {
        "colab": {
          "base_uri": "https://localhost:8080/"
        },
        "id": "ORhl8Aj5JvwQ",
        "outputId": "fcb04590-d95e-457c-addf-e8b464bcb6fb"
      },
      "outputs": [
        {
          "name": "stdout",
          "output_type": "stream",
          "text": [
            "tensor([[1.0000, 0.0000, 0.0000, 0.0000, 0.0000, 0.0000],\n",
            "        [0.5517, 0.4483, 0.0000, 0.0000, 0.0000, 0.0000],\n",
            "        [0.3800, 0.3097, 0.3103, 0.0000, 0.0000, 0.0000],\n",
            "        [0.2758, 0.2460, 0.2462, 0.2319, 0.0000, 0.0000],\n",
            "        [0.2175, 0.1983, 0.1984, 0.1888, 0.1971, 0.0000],\n",
            "        [0.1935, 0.1663, 0.1666, 0.1542, 0.1666, 0.1529]],\n",
            "       grad_fn=<DivBackward0>)\n"
          ]
        }
      ],
      "source": [
        "# normalize the masked attn weights\n",
        "row_sums = masked_attn_weights.sum(dim = -1, keepdim=True)\n",
        "normalized_masked_attn_weights = masked_attn_weights / row_sums\n",
        "print(normalized_masked_attn_weights)"
      ]
    },
    {
      "cell_type": "code",
      "execution_count": 20,
      "metadata": {
        "colab": {
          "base_uri": "https://localhost:8080/"
        },
        "id": "yxIpZ2PeMyuU",
        "outputId": "447ed328-a2e2-40cf-ae95-3104ec689839"
      },
      "outputs": [
        {
          "name": "stdout",
          "output_type": "stream",
          "text": [
            "tensor([[0.2899,   -inf,   -inf,   -inf,   -inf,   -inf],\n",
            "        [0.4656, 0.1723,   -inf,   -inf,   -inf,   -inf],\n",
            "        [0.4594, 0.1703, 0.1731,   -inf,   -inf,   -inf],\n",
            "        [0.2642, 0.1024, 0.1036, 0.0186,   -inf,   -inf],\n",
            "        [0.2183, 0.0874, 0.0882, 0.0177, 0.0786,   -inf],\n",
            "        [0.3408, 0.1270, 0.1290, 0.0198, 0.1290, 0.0078]],\n",
            "       grad_fn=<MaskedFillBackward0>)\n"
          ]
        }
      ],
      "source": [
        "# more efficient way of calculating the self attention\n",
        "# is though masking the attentions scores with -inf\n",
        "# before the softmax operation\n",
        "mask = torch.tril(torch.ones(context_length, context_length))\n",
        "masked_attn_scores = attn_scores.masked_fill(mask == 0, -torch.inf)\n",
        "print(masked_attn_scores)"
      ]
    },
    {
      "cell_type": "code",
      "execution_count": 21,
      "metadata": {
        "colab": {
          "base_uri": "https://localhost:8080/"
        },
        "id": "fiv2lVMzPYe-",
        "outputId": "95164bc4-3282-41ec-abf2-3257a8546903"
      },
      "outputs": [
        {
          "name": "stdout",
          "output_type": "stream",
          "text": [
            "tensor([[1.0000, 0.0000, 0.0000, 0.0000, 0.0000, 0.0000],\n",
            "        [0.5517, 0.4483, 0.0000, 0.0000, 0.0000, 0.0000],\n",
            "        [0.3800, 0.3097, 0.3103, 0.0000, 0.0000, 0.0000],\n",
            "        [0.2758, 0.2460, 0.2462, 0.2319, 0.0000, 0.0000],\n",
            "        [0.2175, 0.1983, 0.1984, 0.1888, 0.1971, 0.0000],\n",
            "        [0.1935, 0.1663, 0.1666, 0.1542, 0.1666, 0.1529]],\n",
            "       grad_fn=<SoftmaxBackward0>)\n"
          ]
        }
      ],
      "source": [
        "# apply softmax to the attn_weights\n",
        "attn_weights = torch.softmax(masked_attn_scores/(keys.shape[-1] ** 0.5), dim = -1)\n",
        "print(attn_weights)"
      ]
    },
    {
      "cell_type": "code",
      "execution_count": 22,
      "metadata": {
        "colab": {
          "base_uri": "https://localhost:8080/"
        },
        "id": "7wPWIUC5PtoZ",
        "outputId": "eb7775f9-fe4e-40f0-f90c-f1b8f396b9ad"
      },
      "outputs": [
        {
          "name": "stdout",
          "output_type": "stream",
          "text": [
            "tensor([[2., 2., 2., 2., 2.],\n",
            "        [2., 0., 2., 0., 0.],\n",
            "        [0., 0., 0., 0., 2.],\n",
            "        [0., 2., 0., 2., 2.],\n",
            "        [0., 0., 0., 2., 2.]])\n"
          ]
        }
      ],
      "source": [
        "# adding dropout to the model to eliminate overfitting\n",
        "# understanding how dropout works\n",
        "\n",
        "torch.manual_seed(123)\n",
        "dropout = nn.Dropout(0.5)\n",
        "print(dropout(torch.ones(5, 5)))\n",
        "# as you see in the output, we have dropped 50% of the weights\n",
        "# hence the remaining values are scaled up by 1/0.5 = 2 times"
      ]
    },
    {
      "cell_type": "code",
      "execution_count": 23,
      "metadata": {
        "colab": {
          "base_uri": "https://localhost:8080/"
        },
        "id": "jSn5eYNvR2Fq",
        "outputId": "5a562ee0-ba92-411d-d132-eba349e570e2"
      },
      "outputs": [
        {
          "name": "stdout",
          "output_type": "stream",
          "text": [
            "tensor([[2.0000, 0.0000, 0.0000, 0.0000, 0.0000, 0.0000],\n",
            "        [0.0000, 0.8966, 0.0000, 0.0000, 0.0000, 0.0000],\n",
            "        [0.0000, 0.0000, 0.6206, 0.0000, 0.0000, 0.0000],\n",
            "        [0.5517, 0.4921, 0.0000, 0.0000, 0.0000, 0.0000],\n",
            "        [0.4350, 0.0000, 0.0000, 0.0000, 0.0000, 0.0000],\n",
            "        [0.0000, 0.3327, 0.0000, 0.0000, 0.0000, 0.0000]],\n",
            "       grad_fn=<MulBackward0>)\n"
          ]
        }
      ],
      "source": [
        "# applying drouput to our attn_weights\n",
        "torch.manual_seed(123)\n",
        "print(dropout(attn_weights))"
      ]
    },
    {
      "cell_type": "markdown",
      "metadata": {
        "id": "w_r7LS_uSdlV"
      },
      "source": [
        "# Creating a compact casual attention class"
      ]
    },
    {
      "cell_type": "code",
      "execution_count": 24,
      "metadata": {
        "colab": {
          "base_uri": "https://localhost:8080/"
        },
        "id": "4sRVVNrRSh5X",
        "outputId": "1ce4873c-8857-433d-fb6f-b7783f185584"
      },
      "outputs": [
        {
          "name": "stdout",
          "output_type": "stream",
          "text": [
            "torch.Size([2, 6, 3])\n"
          ]
        }
      ],
      "source": [
        "# adding batches to the inputs to make CasualAttention handle batched inputs\n",
        "batch = torch.stack((inputs, inputs), dim=0)\n",
        "print(batch.shape)"
      ]
    },
    {
      "cell_type": "code",
      "execution_count": 25,
      "metadata": {
        "id": "oumu7scKTHIN"
      },
      "outputs": [],
      "source": [
        "class CasualAttention(nn.Module):\n",
        "  def __init__(self, d_in, d_out, context_length, dropout, qvk_bias = False):\n",
        "    super().__init__()\n",
        "    self.d_out = d_out\n",
        "    self.W_query = nn.Linear(d_in, d_out, bias = qvk_bias)\n",
        "    self.W_key = nn.Linear(d_in, d_out, bias = qvk_bias)\n",
        "    self.W_value = nn.Linear(d_in, d_out, bias = qvk_bias)\n",
        "    self.dropout = nn.Dropout(dropout)\n",
        "    self.register_buffer(\"mask\", torch.tril(torch.ones(context_length, context_length)))\n",
        "\n",
        "  def forward(self, x):\n",
        "    b, num_tokens, d_in = x.shape\n",
        "    queries = self.W_query(x)\n",
        "    keys = self.W_key(x)\n",
        "    values = self.W_value(x)\n",
        "    attn_scores = torch.matmul(queries, keys.transpose(1, 2))\n",
        "    masked_attn_scores = attn_scores.masked_fill_(self.mask == 0, -torch.inf)\n",
        "    attn_weights = nn.functional.softmax(masked_attn_scores/(keys.shape[-1] ** 0.5), dim = -1)\n",
        "    attn_weights = self.dropout(attn_weights)\n",
        "    context_vector = torch.matmul(attn_weights, values)\n",
        "    return context_vector"
      ]
    },
    {
      "cell_type": "code",
      "execution_count": 26,
      "metadata": {
        "colab": {
          "base_uri": "https://localhost:8080/"
        },
        "id": "gv7NWKhbUfKq",
        "outputId": "20a751a9-6435-4c31-8913-8d617380cf2e"
      },
      "outputs": [
        {
          "name": "stdout",
          "output_type": "stream",
          "text": [
            "context vector shape: torch.Size([2, 6, 2])\n"
          ]
        }
      ],
      "source": [
        "# testing teh casual attention class\n",
        "torch.manual_seed(123)\n",
        "context_length = batch.shape[1]\n",
        "ca = CasualAttention(d_in, d_out, context_length, 0.0)\n",
        "context_vector = ca(batch)\n",
        "print(\"context vector shape:\", context_vector.shape)"
      ]
    },
    {
      "cell_type": "markdown",
      "metadata": {
        "id": "ZObicwDoVMq7"
      },
      "source": [
        "# Multi Head Attention"
      ]
    },
    {
      "cell_type": "code",
      "execution_count": 27,
      "metadata": {
        "id": "xAgnPzDPVPn8"
      },
      "outputs": [],
      "source": [
        "# A wrapper class to implement Multi Head attention\n",
        "\n",
        "class MultiHeadAttentionWrapper(nn.Module):\n",
        "  def __init__(self, d_in, d_out, context_length, dropout, num_heads, qvk_bias = False):\n",
        "    super().__init__()\n",
        "    self.heads = nn.ModuleList([\n",
        "        CasualAttention(d_in, d_out, context_length, dropout, qvk_bias) for _ in range(num_heads)\n",
        "    ])\n",
        "\n",
        "  def forward(self, x):\n",
        "    return torch.cat([head(x) for head in self.heads], dim = -1)\n"
      ]
    },
    {
      "cell_type": "code",
      "execution_count": 28,
      "metadata": {
        "colab": {
          "base_uri": "https://localhost:8080/"
        },
        "id": "_oXcmRT4W_0z",
        "outputId": "5df420af-beff-4817-d235-42d52edd06cc"
      },
      "outputs": [
        {
          "name": "stdout",
          "output_type": "stream",
          "text": [
            "contet_vector shape: torch.Size([2, 6, 4])\n",
            "context_vector: tensor([[[-0.4519,  0.2216,  0.4772,  0.1063],\n",
            "         [-0.5874,  0.0058,  0.5891,  0.3257],\n",
            "         [-0.6300, -0.0632,  0.6202,  0.3860],\n",
            "         [-0.5675, -0.0843,  0.5478,  0.3589],\n",
            "         [-0.5526, -0.0981,  0.5321,  0.3428],\n",
            "         [-0.5299, -0.1081,  0.5077,  0.3493]],\n",
            "\n",
            "        [[-0.4519,  0.2216,  0.4772,  0.1063],\n",
            "         [-0.5874,  0.0058,  0.5891,  0.3257],\n",
            "         [-0.6300, -0.0632,  0.6202,  0.3860],\n",
            "         [-0.5675, -0.0843,  0.5478,  0.3589],\n",
            "         [-0.5526, -0.0981,  0.5321,  0.3428],\n",
            "         [-0.5299, -0.1081,  0.5077,  0.3493]]], grad_fn=<CatBackward0>)\n"
          ]
        }
      ],
      "source": [
        "# test the MultiHeadAttentionWrapper\n",
        "torch.manual_seed(123)\n",
        "context_length = batch.shape[1]\n",
        "d_in = 3\n",
        "d_out = 2\n",
        "num_heads = 2\n",
        "mha = MultiHeadAttentionWrapper(d_in, d_out, context_length, 0.0, num_heads)\n",
        "context_vector = mha(batch)\n",
        "print(\"contet_vector shape:\", context_vector.shape)\n",
        "print(\"context_vector:\", context_vector)"
      ]
    },
    {
      "cell_type": "code",
      "execution_count": 29,
      "metadata": {
        "id": "vwdQuEkgXzSu"
      },
      "outputs": [],
      "source": [
        "# effectively calculating muli-head attention by using matrix multiplications\n",
        "# and effiecient implementatio of mulit Head Attention class\n",
        "\n",
        "class MultiHeadAttention(nn.Module):\n",
        "  def __init__(self, d_in, d_out, context_length, dropout, num_heads, qvk_bias = False):\n",
        "    super().__init__()\n",
        "    assert (d_out % num_heads) == 0, \"d_out must be divisible by num_heads\"\n",
        "\n",
        "    self.d_out = d_out\n",
        "    self.num_heads = num_heads\n",
        "    self.head_dim = d_out // num_heads\n",
        "    self.W_query = nn.Linear(d_in, d_out, bias = qvk_bias)\n",
        "    self.W_key = nn.Linear(d_in, d_out, bias = qvk_bias)\n",
        "    self.W_value = nn.Linear(d_in, d_out, bias = qvk_bias)\n",
        "    self.out_proj = nn.Linear(d_out, d_out)\n",
        "    self.dropout = nn.Dropout(dropout)\n",
        "    self.register_buffer(\"mask\", torch.tril(torch.ones(context_length, context_length)))\n",
        "\n",
        "  def forward(self, x):\n",
        "    b, num_tokens, d_in = x.shape\n",
        "    queries = self.W_query(x)\n",
        "    keys = self.W_key(x)\n",
        "    values = self.W_value(x)\n",
        "\n",
        "    queries = queries.view(b, num_tokens, self.num_heads, self.head_dim)\n",
        "    keys = keys.view(b, num_tokens, self.num_heads, self.head_dim)\n",
        "    values = values.view(b, num_tokens, self.num_heads, self.head_dim)\n",
        "\n",
        "    queries = queries.transpose(1, 2)\n",
        "    keys = keys.transpose(1, 2)\n",
        "    values = values.transpose(1, 2)\n",
        "\n",
        "    attn_scores = torch.matmul(queries, keys.transpose(2, 3))\n",
        "    masked_attn_scores = attn_scores.masked_fill_(self.mask == 0, -torch.inf)\n",
        "    attn_weights = nn.functional.softmax(masked_attn_scores/(keys.shape[-1] ** 0.5), dim = -1)\n",
        "    attn_weights = self.dropout(attn_weights)\n",
        "    context_vector = torch.matmul(attn_weights, values).transpose(1, 2)\n",
        "    context_vector = context_vector.contiguous().view(b, num_tokens, self.d_out)\n",
        "    context_vector = self.out_proj(context_vector)\n",
        "    return context_vector"
      ]
    },
    {
      "cell_type": "code",
      "execution_count": 30,
      "metadata": {
        "colab": {
          "base_uri": "https://localhost:8080/"
        },
        "id": "ZNvj5C8dc8Uf",
        "outputId": "d9968a6b-e59d-4145-b879-f5ef5c47d827"
      },
      "outputs": [
        {
          "name": "stdout",
          "output_type": "stream",
          "text": [
            "contet_vector shape: torch.Size([2, 6, 2])\n",
            "context_vector: tensor([[[0.3190, 0.4858],\n",
            "         [0.2926, 0.3896],\n",
            "         [0.2841, 0.3592],\n",
            "         [0.2689, 0.3877],\n",
            "         [0.2632, 0.3933],\n",
            "         [0.2572, 0.4033]],\n",
            "\n",
            "        [[0.3190, 0.4858],\n",
            "         [0.2926, 0.3896],\n",
            "         [0.2841, 0.3592],\n",
            "         [0.2689, 0.3877],\n",
            "         [0.2632, 0.3933],\n",
            "         [0.2572, 0.4033]]], grad_fn=<ViewBackward0>)\n"
          ]
        }
      ],
      "source": [
        "# testing our multihead attention class\n",
        "torch.manual_seed(123)\n",
        "batch_size, context_length, d_in = batch.shape\n",
        "d_out = 2\n",
        "num_heads = 1\n",
        "mha = MultiHeadAttention(d_in, d_out, context_length, 0.0, num_heads)\n",
        "context_vector = mha(batch)\n",
        "print(\"contet_vector shape:\", context_vector.shape)\n",
        "print(\"context_vector:\", context_vector)"
      ]
    }
  ],
  "metadata": {
    "colab": {
      "authorship_tag": "ABX9TyMtKAsZVsjPa/wuHsiI3nDg",
      "include_colab_link": true,
      "provenance": []
    },
    "kernelspec": {
      "display_name": "Python 3",
      "name": "python3"
    },
    "language_info": {
      "codemirror_mode": {
        "name": "ipython",
        "version": 3
      },
      "file_extension": ".py",
      "mimetype": "text/x-python",
      "name": "python",
      "nbconvert_exporter": "python",
      "pygments_lexer": "ipython3",
      "version": "3.8.18"
    }
  },
  "nbformat": 4,
  "nbformat_minor": 0
}
