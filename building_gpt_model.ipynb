{
  "nbformat": 4,
  "nbformat_minor": 0,
  "metadata": {
    "colab": {
      "provenance": [],
      "authorship_tag": "ABX9TyMI9pzcCiNkJb7TqzLibt5R",
      "include_colab_link": true
    },
    "kernelspec": {
      "name": "python3",
      "display_name": "Python 3"
    },
    "language_info": {
      "name": "python"
    }
  },
  "cells": [
    {
      "cell_type": "markdown",
      "metadata": {
        "id": "view-in-github",
        "colab_type": "text"
      },
      "source": [
        "<a href=\"https://colab.research.google.com/github/ksk-17/build_llm_from_scratch/blob/main/building_gpt_model.ipynb\" target=\"_parent\"><img src=\"https://colab.research.google.com/assets/colab-badge.svg\" alt=\"Open In Colab\"/></a>"
      ]
    },
    {
      "cell_type": "markdown",
      "source": [
        "# GPT Placeholder"
      ],
      "metadata": {
        "id": "uQ8OIoZOU_bK"
      }
    },
    {
      "cell_type": "code",
      "execution_count": 1,
      "metadata": {
        "id": "NSJw6x3VRu4n"
      },
      "outputs": [],
      "source": [
        "GPT_CONFIG_124M  = {\n",
        "    \"vocab_size\": 50257,\n",
        "    \"context_length\": 1024,\n",
        "    \"emb_dim\": 768,\n",
        "    \"n_heads\": 12,\n",
        "    \"n_layers\": 12,\n",
        "    \"drop_rate\": 0.1,\n",
        "    \"qvk_bias\": False\n",
        "}"
      ]
    },
    {
      "cell_type": "code",
      "source": [
        "# building a placeholder GPT module\n",
        "import torch\n",
        "import torch.nn as nn\n",
        "\n",
        "class DummyGPTModel(nn.Module):\n",
        "  def __init__(self, config):\n",
        "    super().__init__()\n",
        "    self.tok_emb = nn.Embedding(config[\"vocab_size\"], config[\"emb_dim\"])\n",
        "    self.pos_emb = nn.Embedding(config[\"context_length\"], config[\"emb_dim\"])\n",
        "    self.dropout = nn.Dropout(config[\"drop_rate\"])\n",
        "    self.transformer_blocks = nn.Sequential(*[DummyTransformerBlock(config) for _ in range(config[\"n_layers\"])])\n",
        "    self.final_norm = DummyLayerNorm(config[\"emb_dim\"])\n",
        "    self.out_head = nn.Linear(config[\"emb_dim\"], config[\"vocab_size\"], bias=False)\n",
        "\n",
        "  def forward(self, in_idx):\n",
        "    batch, seq_len = in_idx.shape\n",
        "    tok_embeds = self.tok_emb(in_idx)\n",
        "    pos_embeds = self.pos_emb(torch.arange(seq_len, device=in_idx.device))\n",
        "    x = tok_embeds + pos_embeds\n",
        "    x = self.dropout(x)\n",
        "    x = self.transformer_blocks(x)\n",
        "    x = self.final_norm(x)\n",
        "    logits = self.out_head(x)\n",
        "    return logits\n",
        "\n",
        "class DummyTransformerBlock(nn.Module):\n",
        "  def __init__(self, config):\n",
        "    super().__init__()\n",
        "\n",
        "  def forward(self, x):\n",
        "    return x\n",
        "\n",
        "class DummyLayerNorm(nn.Module):\n",
        "  def __init__(self, emb_dim, eps = 1e-5):\n",
        "    super().__init__()\n",
        "\n",
        "  def forward(self, x):\n",
        "    return x"
      ],
      "metadata": {
        "id": "sh0hzt80Sb-O"
      },
      "execution_count": 2,
      "outputs": []
    },
    {
      "cell_type": "code",
      "source": [
        "!pip install tiktoken"
      ],
      "metadata": {
        "colab": {
          "base_uri": "https://localhost:8080/"
        },
        "id": "h7JS6twfb3uV",
        "outputId": "5d08ee9c-4629-443d-a6ca-3180fa383980"
      },
      "execution_count": 3,
      "outputs": [
        {
          "output_type": "stream",
          "name": "stdout",
          "text": [
            "Requirement already satisfied: tiktoken in /usr/local/lib/python3.10/dist-packages (0.8.0)\n",
            "Requirement already satisfied: regex>=2022.1.18 in /usr/local/lib/python3.10/dist-packages (from tiktoken) (2024.9.11)\n",
            "Requirement already satisfied: requests>=2.26.0 in /usr/local/lib/python3.10/dist-packages (from tiktoken) (2.32.3)\n",
            "Requirement already satisfied: charset-normalizer<4,>=2 in /usr/local/lib/python3.10/dist-packages (from requests>=2.26.0->tiktoken) (3.3.2)\n",
            "Requirement already satisfied: idna<4,>=2.5 in /usr/local/lib/python3.10/dist-packages (from requests>=2.26.0->tiktoken) (3.10)\n",
            "Requirement already satisfied: urllib3<3,>=1.21.1 in /usr/local/lib/python3.10/dist-packages (from requests>=2.26.0->tiktoken) (2.2.3)\n",
            "Requirement already satisfied: certifi>=2017.4.17 in /usr/local/lib/python3.10/dist-packages (from requests>=2.26.0->tiktoken) (2024.8.30)\n"
          ]
        }
      ]
    },
    {
      "cell_type": "code",
      "source": [
        "# lets test our model\n",
        "\n",
        "import tiktoken\n",
        "\n",
        "tokenizer = tiktoken.get_encoding(\"gpt2\")\n",
        "batch = []\n",
        "txt1 = \"Every effort moves you\"\n",
        "txt2 = \"Every day holds a\"\n",
        "\n",
        "batch.append(torch.tensor(tokenizer.encode(txt1)))\n",
        "batch.append(torch.tensor(tokenizer.encode(txt2)))\n",
        "batch = torch.stack(batch, dim = 0)\n",
        "print(batch)\n"
      ],
      "metadata": {
        "colab": {
          "base_uri": "https://localhost:8080/"
        },
        "id": "WKW_gNbpeZQo",
        "outputId": "3504f994-eb65-495d-eb03-eb2442ea35cf"
      },
      "execution_count": 4,
      "outputs": [
        {
          "output_type": "stream",
          "name": "stdout",
          "text": [
            "tensor([[6109, 3626, 6100,  345],\n",
            "        [6109, 1110, 6622,  257]])\n"
          ]
        }
      ]
    },
    {
      "cell_type": "code",
      "source": [
        "torch.manual_seed(123)\n",
        "model = DummyGPTModel(GPT_CONFIG_124M)\n",
        "logits = model(batch)\n",
        "print(\"Output shape:\", logits.shape)\n",
        "print(logits)"
      ],
      "metadata": {
        "colab": {
          "base_uri": "https://localhost:8080/"
        },
        "id": "7-Y9G5YYfAJV",
        "outputId": "d35bfcb0-2e9f-4519-cd31-fa046ad1df1e"
      },
      "execution_count": 5,
      "outputs": [
        {
          "output_type": "stream",
          "name": "stdout",
          "text": [
            "Output shape: torch.Size([2, 4, 50257])\n",
            "tensor([[[-0.9289,  0.2748, -0.7557,  ..., -1.6070,  0.2702, -0.5888],\n",
            "         [-0.4476,  0.1726,  0.5354,  ..., -0.3932,  1.5285,  0.8557],\n",
            "         [ 0.5680,  1.6053, -0.2155,  ...,  1.1624,  0.1380,  0.7425],\n",
            "         [ 0.0447,  2.4787, -0.8843,  ...,  1.3219, -0.0864, -0.5856]],\n",
            "\n",
            "        [[-1.5474, -0.0542, -1.0571,  ..., -1.8061, -0.4494, -0.6747],\n",
            "         [-0.8422,  0.8243, -0.1098,  ..., -0.1434,  0.2079,  1.2046],\n",
            "         [ 0.1355,  1.1858, -0.1453,  ...,  0.0869, -0.1590,  0.1552],\n",
            "         [ 0.1666, -0.8138,  0.2307,  ...,  2.5035, -0.3055, -0.3083]]],\n",
            "       grad_fn=<UnsafeViewBackward0>)\n"
          ]
        }
      ]
    },
    {
      "cell_type": "markdown",
      "source": [
        "# Layer Normalization"
      ],
      "metadata": {
        "id": "-CIY-q5zVHzY"
      }
    },
    {
      "cell_type": "code",
      "source": [
        "# understanding layer normalization\n",
        "\n",
        "torch.manual_seed(123)\n",
        "batch_example = torch.randn(2, 5)\n",
        "layer = nn.Sequential(nn.Linear(5, 6), nn.ReLU())\n",
        "out = layer(batch_example)\n",
        "print(out)\n"
      ],
      "metadata": {
        "id": "J3rpq8lticQs",
        "colab": {
          "base_uri": "https://localhost:8080/"
        },
        "outputId": "ba816adb-03e0-4dd1-c235-560b2be5e164"
      },
      "execution_count": 6,
      "outputs": [
        {
          "output_type": "stream",
          "name": "stdout",
          "text": [
            "tensor([[0.2260, 0.3470, 0.0000, 0.2216, 0.0000, 0.0000],\n",
            "        [0.2133, 0.2394, 0.0000, 0.5198, 0.3297, 0.0000]],\n",
            "       grad_fn=<ReluBackward0>)\n"
          ]
        }
      ]
    },
    {
      "cell_type": "code",
      "source": [
        "# figure the mean and variance of the output\n",
        "\n",
        "mean = out.mean(dim = -1, keepdim = True)\n",
        "var = out.var(dim = -1, keepdim = True)\n",
        "print(\"mean: \\n\", mean)\n",
        "print(\"variance: \\n\", var)"
      ],
      "metadata": {
        "colab": {
          "base_uri": "https://localhost:8080/"
        },
        "id": "8fztfwBmW4Mn",
        "outputId": "4d830376-e34a-4263-fe10-b154cc56b0fb"
      },
      "execution_count": 7,
      "outputs": [
        {
          "output_type": "stream",
          "name": "stdout",
          "text": [
            "mean: \n",
            " tensor([[0.1324],\n",
            "        [0.2170]], grad_fn=<MeanBackward1>)\n",
            "variance: \n",
            " tensor([[0.0231],\n",
            "        [0.0398]], grad_fn=<VarBackward0>)\n"
          ]
        }
      ]
    },
    {
      "cell_type": "code",
      "source": [
        "# normalize the output\n",
        "out_norm = (out - mean) / torch.sqrt(var)\n",
        "mean = out_norm.mean(dim = -1, keepdim = True)\n",
        "var = out_norm.var(dim = -1, keepdim = True)\n",
        "print(\"mean: \\n\", mean)\n",
        "print(\"variance: \\n\", var)"
      ],
      "metadata": {
        "colab": {
          "base_uri": "https://localhost:8080/"
        },
        "id": "_kque7gaWY7f",
        "outputId": "0924e8c0-61a4-47fa-c296-87ec1a480339"
      },
      "execution_count": 8,
      "outputs": [
        {
          "output_type": "stream",
          "name": "stdout",
          "text": [
            "mean: \n",
            " tensor([[9.9341e-09],\n",
            "        [1.9868e-08]], grad_fn=<MeanBackward1>)\n",
            "variance: \n",
            " tensor([[1.0000],\n",
            "        [1.0000]], grad_fn=<VarBackward0>)\n"
          ]
        }
      ]
    },
    {
      "cell_type": "code",
      "source": [
        "# incorporating layer norm in GPT class\n",
        "import torch\n",
        "import torch.nn as nn\n",
        "\n",
        "class LayerNorm(nn.Module):\n",
        "  def __init__(self, emb_dim):\n",
        "    super().__init__()\n",
        "    self.eps = 1e-5\n",
        "    self.scale = nn.Parameter(torch.ones(emb_dim))\n",
        "    self.shift = nn.Parameter(torch.zeros(emb_dim))\n",
        "\n",
        "  def forward(self, x):\n",
        "    mean = x.mean(dim = -1, keepdim = True)\n",
        "    var = x.var(dim = -1, keepdim = True, unbiased=False)\n",
        "    norm_x = (x - mean) / torch.sqrt(var + self.eps)\n",
        "    return self.scale * norm_x + self.shift"
      ],
      "metadata": {
        "id": "AsnLBWJLbKRY"
      },
      "execution_count": 9,
      "outputs": []
    },
    {
      "cell_type": "code",
      "source": [
        "# test the LayerNorm class\n",
        "ln = LayerNorm(emb_dim=5)\n",
        "out_ln = ln(batch_example)\n",
        "mean = out_ln.mean(dim = -1, keepdim = True)\n",
        "var = out_ln.var(dim = -1, unbiased=False, keepdim = True)\n",
        "print(\"mean: \\n\", mean)\n",
        "print(\"variance: \\n\", var)"
      ],
      "metadata": {
        "id": "MhLiB9wHd6WB",
        "colab": {
          "base_uri": "https://localhost:8080/"
        },
        "outputId": "0a0596d6-7634-47ed-ca87-a4a0d4ff4d3b"
      },
      "execution_count": 10,
      "outputs": [
        {
          "output_type": "stream",
          "name": "stdout",
          "text": [
            "mean: \n",
            " tensor([[-2.9802e-08],\n",
            "        [ 0.0000e+00]], grad_fn=<MeanBackward1>)\n",
            "variance: \n",
            " tensor([[1.0000],\n",
            "        [1.0000]], grad_fn=<VarBackward0>)\n"
          ]
        }
      ]
    },
    {
      "cell_type": "markdown",
      "source": [
        "# Implementing a FF NN with GELU activation"
      ],
      "metadata": {
        "id": "--e7dSQkhJ6s"
      }
    },
    {
      "cell_type": "code",
      "source": [
        "# implementing GELU\n",
        "\n",
        "class GELU(nn.Module):\n",
        "  def __init__(self):\n",
        "    super().__init__()\n",
        "\n",
        "  def forward(self, x):\n",
        "    return 0.5 * x * (1 + torch.tanh(torch.sqrt(torch.tensor(2.0/torch.pi)) * (x + 0.044715 * torch.pow(x, 3))))"
      ],
      "metadata": {
        "id": "ER38YsjBhTOd"
      },
      "execution_count": 11,
      "outputs": []
    },
    {
      "cell_type": "code",
      "source": [
        "# comparing gelu and relu activations\n",
        "import matplotlib.pyplot as plt\n",
        "\n",
        "gelu = GELU()\n",
        "relu = nn.ReLU()\n",
        "\n",
        "x = torch.linspace(-3, 3, 100)\n",
        "y_gelu, y_relu = gelu(x), relu(x)\n",
        "plt.figure(figsize=(8, 3))\n",
        "for i, (y, label) in enumerate(zip([y_relu, y_gelu], [\"RELU\", \"GELU\"]), 1):\n",
        "  plt.subplot(1, 2, i)\n",
        "  plt.plot(x, y)\n",
        "  plt.title(f\"{label} activation function\")\n",
        "  plt.xlabel(\"x\")\n",
        "  plt.ylabel(f\"{label}(x)\")\n",
        "  plt.grid(True)\n",
        "plt.tight_layout()\n",
        "plt.show()"
      ],
      "metadata": {
        "colab": {
          "base_uri": "https://localhost:8080/",
          "height": 307
        },
        "id": "T6LJydfyjfZX",
        "outputId": "315148e0-a93e-4c3f-90ef-320823c136bf"
      },
      "execution_count": 12,
      "outputs": [
        {
          "output_type": "display_data",
          "data": {
            "text/plain": [
              "<Figure size 800x300 with 2 Axes>"
            ],
            "image/png": "[encoded data removed]"
          },
          "metadata": {}
        }
      ]
    },
    {
      "cell_type": "code",
      "source": [
        "# implementing the FFNN\n",
        "import torch\n",
        "import torch.nn as nn\n",
        "\n",
        "class FeedForward(nn.Module):\n",
        "  def __init__(self, config):\n",
        "    super().__init__()\n",
        "    self.layers = nn.Sequential(\n",
        "        nn.Linear(config[\"emb_dim\"], 4 * config[\"emb_dim\"]),\n",
        "        GELU(),\n",
        "        nn.Linear(4 * config[\"emb_dim\"], config[\"emb_dim\"])\n",
        "    )\n",
        "\n",
        "  def forward(self, x):\n",
        "    return self.layers(x)"
      ],
      "metadata": {
        "id": "-NWgfbIFrAQr"
      },
      "execution_count": 13,
      "outputs": []
    },
    {
      "cell_type": "code",
      "source": [
        "# test the ffnn\n",
        "ffn = FeedForward(GPT_CONFIG_124M)\n",
        "x = torch.randn(2, 3, 768)\n",
        "out = ffn(x)\n",
        "print(out.shape)"
      ],
      "metadata": {
        "colab": {
          "base_uri": "https://localhost:8080/"
        },
        "id": "-6r2taUrsRQ_",
        "outputId": "186d7b8d-7929-4b76-d6c9-c6278c46dde0"
      },
      "execution_count": 14,
      "outputs": [
        {
          "output_type": "stream",
          "name": "stdout",
          "text": [
            "torch.Size([2, 3, 768])\n"
          ]
        }
      ]
    },
    {
      "cell_type": "markdown",
      "source": [
        "# Adding Residual Networks"
      ],
      "metadata": {
        "id": "sHh6Dd4I3HWy"
      }
    },
    {
      "cell_type": "code",
      "source": [
        "# implement a deep nn with residual networks\n",
        "\n",
        "class DeepNeuralNetwork(nn.Module):\n",
        "  def __init__(self, layer_sizes, use_shortcut):\n",
        "    super().__init__()\n",
        "    self.use_shortcut = use_shortcut\n",
        "    self.layers = nn.ModuleList([\n",
        "       self.layer_block(layer_sizes[0], layer_sizes[1]),\n",
        "       self.layer_block(layer_sizes[1], layer_sizes[2]),\n",
        "       self.layer_block(layer_sizes[2], layer_sizes[3]),\n",
        "       self.layer_block(layer_sizes[3], layer_sizes[4]),\n",
        "       self.layer_block(layer_sizes[4], layer_sizes[5])\n",
        "    ]);\n",
        "\n",
        "  def layer_block(self, input_size, output_size):\n",
        "    return nn.Sequential(nn.Linear(input_size, output_size), GELU());\n",
        "\n",
        "  def forward(self, x):\n",
        "    for layer in self.layers:\n",
        "      layer_output = layer(x)\n",
        "      if self.use_shortcut and x.shape == layer_output.shape:\n",
        "        x = x + layer_output\n",
        "      else:\n",
        "        x = layer_output\n",
        "    return x"
      ],
      "metadata": {
        "id": "SGwjgqo73L3Q"
      },
      "execution_count": 15,
      "outputs": []
    },
    {
      "cell_type": "code",
      "source": [
        "# lets initialize and test the deep neural network without skip connections and print its gradients\n",
        "\n",
        "layer_sizes = [3, 3, 3, 3, 3, 1]\n",
        "sample_input = torch.tensor([[1., 0., -1.]])\n",
        "torch.manual_seed(123)\n",
        "model_without_shortcut = DeepNeuralNetwork(layer_sizes, use_shortcut = False)"
      ],
      "metadata": {
        "id": "3qVoiDNf64WP"
      },
      "execution_count": 16,
      "outputs": []
    },
    {
      "cell_type": "code",
      "source": [
        "# define the function to print the gradients\n",
        "\n",
        "def print_gradients(model, x):\n",
        "  output = model(x)\n",
        "  target = torch.tensor([0.])\n",
        "\n",
        "  loss = nn.MSELoss()(output, target)\n",
        "\n",
        "  loss.backward()\n",
        "\n",
        "  for name, param in model.named_parameters():\n",
        "    if 'weight' in name:\n",
        "      print(f'{name} has gradient mean of {param.grad.abs().mean().item()}')"
      ],
      "metadata": {
        "id": "ZqFVzerP8UiN"
      },
      "execution_count": 17,
      "outputs": []
    },
    {
      "cell_type": "code",
      "source": [
        "# print the gradients\n",
        "print_gradients(model_without_shortcut, sample_input)"
      ],
      "metadata": {
        "colab": {
          "base_uri": "https://localhost:8080/"
        },
        "id": "kKyfRMIP9GUs",
        "outputId": "24421156-3512-4384-e010-11c3199f95d1"
      },
      "execution_count": 18,
      "outputs": [
        {
          "output_type": "stream",
          "name": "stdout",
          "text": [
            "layers.0.0.weight has gradient mean of 0.00020173584925942123\n",
            "layers.1.0.weight has gradient mean of 0.00012011159560643137\n",
            "layers.2.0.weight has gradient mean of 0.0007152040489017963\n",
            "layers.3.0.weight has gradient mean of 0.0013988736318424344\n",
            "layers.4.0.weight has gradient mean of 0.005049645435065031\n"
          ]
        },
        {
          "output_type": "stream",
          "name": "stderr",
          "text": [
            "/usr/local/lib/python3.10/dist-packages/torch/nn/modules/loss.py:538: UserWarning: Using a target size (torch.Size([1])) that is different to the input size (torch.Size([1, 1])). This will likely lead to incorrect results due to broadcasting. Please ensure they have the same size.\n",
            "  return F.mse_loss(input, target, reduction=self.reduction)\n"
          ]
        }
      ]
    },
    {
      "cell_type": "code",
      "source": [
        "# lets initialize and test the deep neural network with skip connections and print its gradients\n",
        "\n",
        "torch.manual_seed(123)\n",
        "model_with_shortcut = DeepNeuralNetwork(layer_sizes, use_shortcut = True)\n",
        "print_gradients(model_with_shortcut, sample_input)"
      ],
      "metadata": {
        "colab": {
          "base_uri": "https://localhost:8080/"
        },
        "id": "ftAoG3fl-HwF",
        "outputId": "fc15f476-5191-48f9-de9c-22341953a40d"
      },
      "execution_count": 19,
      "outputs": [
        {
          "output_type": "stream",
          "name": "stdout",
          "text": [
            "layers.0.0.weight has gradient mean of 0.22169791162014008\n",
            "layers.1.0.weight has gradient mean of 0.20694105327129364\n",
            "layers.2.0.weight has gradient mean of 0.32896995544433594\n",
            "layers.3.0.weight has gradient mean of 0.2665732204914093\n",
            "layers.4.0.weight has gradient mean of 1.3258540630340576\n"
          ]
        }
      ]
    },
    {
      "cell_type": "markdown",
      "source": [
        "# building a transformer block"
      ],
      "metadata": {
        "id": "xvBLlw_v-6nO"
      }
    },
    {
      "cell_type": "code",
      "source": [
        "# helper function written by myself to convert the ipynb file to py file to import and use the module\n",
        "# import the MulitHead attention from the attention_mechanism.ipynb file\n",
        "\n",
        "import os\n",
        "import urllib.request\n",
        "import json\n",
        "\n",
        "def import_and_convert_to_py(file_name, class_names):\n",
        "  # check and download the ipynb file\n",
        "  if not os.path.exists(f\"{file_name}ipynb\"):\n",
        "    url = f\"https://raw.githubusercontent.com/ksk-17/build_llm_from_scratch/main/{file_name}.ipynb\"\n",
        "    file_path = f\"{file_name}.ipynb\"\n",
        "    urllib.request.urlretrieve(url, file_path)\n",
        "\n",
        "  file_content = []\n",
        "\n",
        "  # open the file and read the content\n",
        "  with open(f\"{file_name}.ipynb\", \"r\") as ipynb_f:\n",
        "    content = ipynb_f.read()\n",
        "    json_content = json.loads(content)\n",
        "    cells = json_content[\"cells\"]\n",
        "    class_name_list = [f\"class {class_name}(nn.Module):\\n\" for class_name in class_names]\n",
        "    for cell in cells:\n",
        "      if(cell[\"cell_type\"] ==  \"code\"):\n",
        "        if(any(string in class_name_list for string in cell[\"source\"])):\n",
        "          file_content.append(''.join(cell[\"source\"]) + \"\\n\\n\")\n",
        "\n",
        "    # write the content in the file\n",
        "    with open(f\"{file_name}.py\", \"w\") as py_f:\n",
        "      py_f.writelines(file_content)\n",
        "\n",
        "import_and_convert_to_py(\"attention_mechanism\", [\"MultiHeadAttention\"])"
      ],
      "metadata": {
        "id": "wE24HbfM-9gT"
      },
      "execution_count": 20,
      "outputs": []
    },
    {
      "cell_type": "code",
      "source": [
        "import torch\n",
        "import torch.nn as nn\n",
        "from attention_mechanism import MultiHeadAttention\n",
        "\n",
        "class TransformerBlock(nn.Module):\n",
        "  def __init__(self, config):\n",
        "    super().__init__()\n",
        "    self.attn = MultiHeadAttention(\n",
        "        d_in = config[\"emb_dim\"],\n",
        "        d_out = config[\"emb_dim\"],\n",
        "        context_length = config[\"context_length\"],\n",
        "        num_heads = config[\"n_heads\"],\n",
        "        dropout = config[\"drop_rate\"],\n",
        "        qvk_bias = config[\"qvk_bias\"]\n",
        "    )\n",
        "    self.ffn = FeedForward(config)\n",
        "    self.norm1 = LayerNorm(config[\"emb_dim\"])\n",
        "    self.norm2 = LayerNorm(config[\"emb_dim\"])\n",
        "    self.dropout_skip = nn.Dropout(config[\"drop_rate\"])\n",
        "\n",
        "  def forward(self, x):\n",
        "    skip = x\n",
        "    x = self.norm1(x)\n",
        "    x = self.attn(x)\n",
        "    x = self.dropout_skip(x)\n",
        "    x = x + skip\n",
        "\n",
        "    skip = x\n",
        "    x = self.norm2(x)\n",
        "    x = self.ffn(x)\n",
        "    x = self.dropout_skip(x)\n",
        "    x = x + skip\n",
        "    return x"
      ],
      "metadata": {
        "id": "KFFo-nbUCL1w"
      },
      "execution_count": 21,
      "outputs": []
    },
    {
      "cell_type": "code",
      "source": [
        "# initialize and test the class\n",
        "# set the context length to 4\n",
        "\n",
        "GPT_CONFIG_124M_EXAMPLE  = {\n",
        "    \"vocab_size\": 50257,\n",
        "    \"context_length\": 4,\n",
        "    \"emb_dim\": 768,\n",
        "    \"n_heads\": 12,\n",
        "    \"n_layers\": 12,\n",
        "    \"drop_rate\": 0.1,\n",
        "    \"qvk_bias\": False\n",
        "}\n",
        "\n",
        "torch.manual_seed(123)\n",
        "x = torch.randn(2, 4, 768)\n",
        "transformer_block = TransformerBlock(GPT_CONFIG_124M_EXAMPLE)\n",
        "out = transformer_block(x)\n",
        "\n",
        "print(\"Input shape:\", x.shape)\n",
        "print(\"Output shape:\", out.shape)"
      ],
      "metadata": {
        "id": "ogFCyywBKI2J",
        "colab": {
          "base_uri": "https://localhost:8080/"
        },
        "outputId": "bb6de999-aec5-4b25-e500-d3da3f8c7e34"
      },
      "execution_count": 26,
      "outputs": [
        {
          "output_type": "stream",
          "name": "stdout",
          "text": [
            "Input shape: torch.Size([2, 4, 768])\n",
            "Output shape: torch.Size([2, 4, 768])\n"
          ]
        }
      ]
    },
    {
      "cell_type": "markdown",
      "source": [
        "# building the GPTModel"
      ],
      "metadata": {
        "id": "mPLgtRCAIh4a"
      }
    },
    {
      "cell_type": "code",
      "source": [
        "# implementing the GPTModel\n",
        "import torch\n",
        "import torch.nn as nn\n",
        "\n",
        "class GPTModel(nn.Module):\n",
        "  def __init__(self, config):\n",
        "    super().__init__()\n",
        "    self.tok_emb = nn.Embedding(config[\"vocab_size\"], config[\"emb_dim\"])\n",
        "    self.pos_emb = nn.Embedding(config[\"context_length\"], config[\"emb_dim\"])\n",
        "    self.dropout = nn.Dropout(config[\"drop_rate\"])\n",
        "    self.transformer_blocks = nn.Sequential(\n",
        "        *[TransformerBlock(config) for _ in range(config[\"n_layers\"])]\n",
        "    )\n",
        "    self.final_norm = LayerNorm(config[\"emb_dim\"])\n",
        "    self.out_head = nn.Linear(config[\"emb_dim\"], config[\"vocab_size\"], bias=False)\n",
        "\n",
        "  def forward(self, in_idx):\n",
        "    batch, seq_len = in_idx.shape\n",
        "    tok_embeds = self.tok_emb(in_idx)\n",
        "    pos_embeds = self.pos_emb(torch.arange(seq_len))\n",
        "    x = tok_embeds + pos_embeds\n",
        "    x = self.dropout(x)\n",
        "    x = self.transformer_blocks(x)\n",
        "    x = self.final_norm(x)\n",
        "    logits = self.out_head(x)\n",
        "    return logits"
      ],
      "metadata": {
        "id": "5vDqVOV1I8AM"
      },
      "execution_count": 23,
      "outputs": []
    },
    {
      "cell_type": "code",
      "source": [
        "# initializing and testing the GPT class\n",
        "\n",
        "torch.manual_seed(123)\n",
        "model = GPTModel(GPT_CONFIG_124M)\n",
        "batch = torch.randint(0, 50257, (2, 1024))\n",
        "out = model(batch)\n",
        "print(\"Input shape:\", batch.shape)\n",
        "print(batch)\n",
        "print(\"Output shape:\", out.shape)\n",
        "print(out)"
      ],
      "metadata": {
        "colab": {
          "base_uri": "https://localhost:8080/"
        },
        "id": "dAutbVJZKnLE",
        "outputId": "5fdb6e6f-8d77-4632-b0d5-f88d35767b01"
      },
      "execution_count": 31,
      "outputs": [
        {
          "output_type": "stream",
          "name": "stdout",
          "text": [
            "Input shape: torch.Size([2, 1024])\n",
            "tensor([[25371, 42188, 47556,  ..., 24530, 23973, 42738],\n",
            "        [10319, 13677, 15405,  ..., 46829, 43675, 36998]])\n",
            "Output shape: torch.Size([2, 1024, 50257])\n",
            "tensor([[[-3.8457e-02, -8.1303e-01, -1.7166e-01,  ...,  5.5626e-01,\n",
            "          -3.7593e-01, -8.5215e-01],\n",
            "         [-3.7939e-01, -5.3464e-01,  1.6017e-01,  ..., -6.4378e-01,\n",
            "           2.1574e-01, -2.7445e-01],\n",
            "         [ 1.9075e+00, -6.0170e-01, -1.2217e+00,  ...,  4.3026e-01,\n",
            "          -4.2383e-01, -1.3337e+00],\n",
            "         ...,\n",
            "         [ 3.5838e-01,  5.0219e-01,  7.7871e-01,  ...,  1.6567e-01,\n",
            "          -1.4561e+00, -8.8346e-02],\n",
            "         [-2.0299e-02, -3.4718e-01, -9.8392e-01,  ..., -4.2627e-01,\n",
            "          -4.6492e-01,  1.0243e+00],\n",
            "         [-3.6798e-01,  1.3299e-01, -2.2390e-01,  ...,  7.9215e-02,\n",
            "          -1.3484e+00,  6.1379e-01]],\n",
            "\n",
            "        [[ 1.5146e-01, -2.4407e-01,  2.0504e-01,  ...,  1.8349e-01,\n",
            "          -4.4227e-02, -6.6707e-01],\n",
            "         [-5.9097e-02, -1.5428e-01,  1.0822e+00,  ..., -3.5492e-01,\n",
            "           4.9224e-01, -3.3400e-01],\n",
            "         [ 1.0227e+00, -5.2920e-01, -2.3203e-01,  ..., -1.3872e-01,\n",
            "          -5.6187e-01, -2.8076e-01],\n",
            "         ...,\n",
            "         [ 2.8579e-01, -8.4369e-02,  4.7613e-01,  ...,  4.0944e-01,\n",
            "           9.5939e-02, -2.4002e-01],\n",
            "         [-7.5588e-01, -5.3469e-01, -6.8716e-01,  ...,  1.6862e-01,\n",
            "          -7.9629e-01,  6.7638e-01],\n",
            "         [ 6.0446e-01,  1.0706e+00, -3.8846e-01,  ..., -2.1213e-01,\n",
            "          -6.7860e-01, -1.3260e-03]]], grad_fn=<UnsafeViewBackward0>)\n"
          ]
        }
      ]
    },
    {
      "cell_type": "code",
      "source": [
        "# print the total no of parameters\n",
        "total_params = sum(p.numel() for p in model.parameters())\n",
        "print(f\"Total no of parameters: {total_params}.\")"
      ],
      "metadata": {
        "colab": {
          "base_uri": "https://localhost:8080/"
        },
        "id": "1RPvzf2VNkNA",
        "outputId": "ef65faeb-afc5-4419-a268-c75afea4d51f"
      },
      "execution_count": 32,
      "outputs": [
        {
          "output_type": "stream",
          "name": "stdout",
          "text": [
            "Total no of parameters: 163009536.\n"
          ]
        }
      ]
    },
    {
      "cell_type": "code",
      "source": [
        "# there are higher no of parameters\n",
        "# but in gpt-2 architecture we use a concept called weight typing\n",
        "# we resue the token embedding layer with output layer\n",
        "print(\"Token embedding layer shape:\", model.tok_emb.weight.shape)\n",
        "print(\"Output head layer shape:\", model.out_head.weight.shape)"
      ],
      "metadata": {
        "colab": {
          "base_uri": "https://localhost:8080/"
        },
        "id": "oYRGFYjeN2Ug",
        "outputId": "48430f32-17de-4e71-c915-4fbfb67b266c"
      },
      "execution_count": 33,
      "outputs": [
        {
          "output_type": "stream",
          "name": "stdout",
          "text": [
            "Token embedding layer shape: torch.Size([50257, 768])\n",
            "Output head layer shape: torch.Size([50257, 768])\n"
          ]
        }
      ]
    },
    {
      "cell_type": "code",
      "source": [
        "# so lets remove the output embedding layer wight\n",
        "total_params_gpt2 = total_params - sum(p.numel() for p in model.out_head.parameters())\n",
        "print(f\"Total no of trainable parameters: {total_params_gpt2}.\")"
      ],
      "metadata": {
        "colab": {
          "base_uri": "https://localhost:8080/"
        },
        "id": "mYjhCM4fOq-N",
        "outputId": "8f46e7af-088d-4fa7-d59e-aee62fbafa9c"
      },
      "execution_count": 34,
      "outputs": [
        {
          "output_type": "stream",
          "name": "stdout",
          "text": [
            "Total no of trainable parameters: 124412160.\n"
          ]
        }
      ]
    },
    {
      "cell_type": "markdown",
      "source": [
        "# Generating text"
      ],
      "metadata": {
        "id": "qlyLgSV7Q3aV"
      }
    },
    {
      "cell_type": "code",
      "source": [
        "# generate text sample\n",
        "\n",
        "def generate_text_simple(model, idx, max_new_tokens, context_size):\n",
        "  for _ in range(max_new_tokens):\n",
        "    idx_cond = idx[:, -context_size:]\n",
        "    with torch.no_grad():\n",
        "      logits = model(idx_cond)\n",
        "    logits = logits[:, -1, :]\n",
        "    probs = nn.functional.softmax(logits, dim = -1)\n",
        "    idx_next = torch.argmax(probs, dim=-1, keepdim=True)\n",
        "    idx = torch.cat((idx, idx_next), dim = -1)\n",
        "  return idx"
      ],
      "metadata": {
        "id": "4Khjxz5YQ5vF"
      },
      "execution_count": 43,
      "outputs": []
    },
    {
      "cell_type": "code",
      "source": [
        "# try out the generate text method\n",
        "\n",
        "start_context = \"Hello, I am\"\n",
        "encoded = tokenizer.encode(start_context)\n",
        "print(\"encoded:\", encoded)\n",
        "encoded_tensor = torch.tensor(encoded).unsqueeze(0)\n",
        "print(\"encoded tensor:\", encoded_tensor)"
      ],
      "metadata": {
        "colab": {
          "base_uri": "https://localhost:8080/"
        },
        "id": "XXjLY5v3TMc6",
        "outputId": "8c698447-3839-46bf-f060-b66c478b2c78"
      },
      "execution_count": 41,
      "outputs": [
        {
          "output_type": "stream",
          "name": "stdout",
          "text": [
            "encoded: [15496, 11, 314, 716]\n",
            "encoded tensor: tensor([[15496,    11,   314,   716]])\n"
          ]
        }
      ]
    },
    {
      "cell_type": "code",
      "source": [
        "torch.manual_seed(123)\n",
        "model = GPTModel(GPT_CONFIG_124M_EXAMPLE)\n",
        "model.eval()\n",
        "out = generate_text_simple(model, idx = encoded_tensor, max_new_tokens=6, context_size=4)\n",
        "print(out)"
      ],
      "metadata": {
        "colab": {
          "base_uri": "https://localhost:8080/"
        },
        "id": "m_IgSRXJVYFO",
        "outputId": "9dc2e479-9895-473b-c8a3-8d37cd38470e"
      },
      "execution_count": 44,
      "outputs": [
        {
          "output_type": "stream",
          "name": "stdout",
          "text": [
            "tensor([[15496,    11,   314,   716, 40861, 21189, 28943, 12041, 45265, 50053]])\n"
          ]
        }
      ]
    },
    {
      "cell_type": "code",
      "source": [
        "decoded_text = tokenizer.decode(out[0].tolist())\n",
        "print(decoded_text)"
      ],
      "metadata": {
        "colab": {
          "base_uri": "https://localhost:8080/"
        },
        "id": "1ZsQ7ZCiWDcE",
        "outputId": "3f224a7f-fe52-4b6a-9859-91bc3932768a"
      },
      "execution_count": 45,
      "outputs": [
        {
          "output_type": "stream",
          "name": "stdout",
          "text": [
            "Hello, I amithering toe resistingPaul gubernatorial Concepts\n"
          ]
        }
      ]
    }
  ]
}